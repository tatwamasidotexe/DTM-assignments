{
 "cells": [
  {
   "cell_type": "code",
   "execution_count": 2,
   "id": "ba2453fa",
   "metadata": {},
   "outputs": [
    {
     "data": {
      "image/png": "[encoded data removed]",
      "text/plain": [
       "<Figure size 432x288 with 1 Axes>"
      ]
     },
     "metadata": {
      "needs_background": "light"
     },
     "output_type": "display_data"
    }
   ],
   "source": [
    "import matplotlib.pyplot as plt\n",
    "import statistics as st\n",
    "import numpy as np\n",
    "\n",
    "\n",
    "# MODULE 1\n",
    "\n",
    "# QUESTION 1\n",
    "data1 = [13, 15, 16, 16, 18, 19, 20, 20, 21, 22, 22, 25, 25, 25, 25, 30, 33, 33, 35, 35, 35, 35, 36, 40, 45, 46, 52, 70, 78, 84,84,89,90,98,99]\n",
    "\n",
    "# answer 1(a)\n",
    "plt.boxplot(data1)\n",
    "plt.show()"
   ]
  },
  {
   "cell_type": "code",
   "execution_count": 8,
   "id": "4db3676e",
   "metadata": {},
   "outputs": [
    {
     "name": "stdout",
     "output_type": "stream",
     "text": [
      "14\n",
      "mean, median, mode for age:\n",
      "48.142857142857146\n",
      "51.0\n",
      "23\n",
      "\n",
      "mean, median, mode for %fat:\n",
      "30.3\n",
      "30.7\n",
      "26.5\n",
      "standard deviation for age:\n",
      "11.805195354700293\n",
      "\n",
      "standard deviation for %fat:\n",
      "5.513479984407447\n",
      "\n",
      "boxplot for age:\n"
     ]
    },
    {
     "data": {
      "image/png": "[encoded data removed]",
      "text/plain": [
       "<Figure size 432x288 with 1 Axes>"
      ]
     },
     "metadata": {
      "needs_background": "light"
     },
     "output_type": "display_data"
    },
    {
     "name": "stdout",
     "output_type": "stream",
     "text": [
      "boxplot for %fat:\n"
     ]
    },
    {
     "data": {
      "image/png": "[encoded data removed]",
      "text/plain": [
       "<Figure size 432x288 with 1 Axes>"
      ]
     },
     "metadata": {
      "needs_background": "light"
     },
     "output_type": "display_data"
    },
    {
     "name": "stdout",
     "output_type": "stream",
     "text": [
      "\n",
      "printing scatter plot:\n"
     ]
    },
    {
     "data": {
      "image/png": "[encoded data removed]",
      "text/plain": [
       "<Figure size 432x288 with 1 Axes>"
      ]
     },
     "metadata": {
      "needs_background": "light"
     },
     "output_type": "display_data"
    },
    {
     "name": "stdout",
     "output_type": "stream",
     "text": [
      "0.7553121740717018\n"
     ]
    }
   ],
   "source": [
    "# QUESTION 2\n",
    "data2 = {\n",
    "    23:9.5,\n",
    "    23:26.5,\n",
    "    27:7.8,\n",
    "    27:17.8,\n",
    "    39:31.4,\n",
    "    41:25.9,\n",
    "    47:27.4,\n",
    "    49:27.2,\n",
    "    50:31.2,\n",
    "    52:34.6,\n",
    "    54:42.5,\n",
    "    54:28.8,\n",
    "    56:33.4,\n",
    "    57:30.2,\n",
    "    58:34.1,\n",
    "    58:32.9,\n",
    "    60:41.2,\n",
    "    61:35.7\n",
    "}\n",
    "print(len(list(data2.keys())))\n",
    "print(\"mean, median, mode for age:\")\n",
    "print(st.mean(list(data2.keys())))\n",
    "print(st.median(list(data2.keys())))\n",
    "print(st.mode(list(data2.keys())))\n",
    "\n",
    "print(\"\\nmean, median, mode for %fat:\")\n",
    "print(st.mean(list(data2.values())))\n",
    "print(st.median(list(data2.values())))\n",
    "print(st.mode(list(data2.values())))\n",
    "\n",
    "print(\"standard deviation for age:\")\n",
    "print(st.stdev(list(data2.keys())))\n",
    "\n",
    "print(\"\\nstandard deviation for %fat:\")\n",
    "print(st.stdev(list(data2.values())))\n",
    "\n",
    "print(\"\\nboxplot for age:\")\n",
    "plt.boxplot(list(data2.keys()))\n",
    "plt.show()\n",
    "\n",
    "print(\"boxplot for %fat:\")\n",
    "plt.boxplot(list(data2.values()))\n",
    "plt.show()\n",
    "\n",
    "print(\"\\nprinting scatter plot:\")\n",
    "plt.scatter(list(data2.keys()), list(data2.values()))\n",
    "plt.show()\n",
    "\n",
    "# import statsmodels.api as sm\n",
    "# import pylab as py\n",
    "\n",
    "# fig = sm.qqplot(list(data2.keys()), line='45')\n",
    "# plt.show()\n",
    "\n",
    "from scipy.stats import pearsonr\n",
    "corr, _ = pearsonr(list(data2.keys()), list(data2.values()))\n",
    "print(corr)"
   ]
  }
 ],
 "metadata": {
  "kernelspec": {
   "display_name": "Python 3 (ipykernel)",
   "language": "python",
   "name": "python3"
  },
  "language_info": {
   "codemirror_mode": {
    "name": "ipython",
    "version": 3
   },
   "file_extension": ".py",
   "mimetype": "text/x-python",
   "name": "python",
   "nbconvert_exporter": "python",
   "pygments_lexer": "ipython3",
   "version": "3.9.12"
  }
 },
 "nbformat": 4,
 "nbformat_minor": 5
}
